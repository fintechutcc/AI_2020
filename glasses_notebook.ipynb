{
 "metadata": {
  "language_info": {
   "codemirror_mode": {
    "name": "ipython",
    "version": 3
   },
   "file_extension": ".py",
   "mimetype": "text/x-python",
   "name": "python",
   "nbconvert_exporter": "python",
   "pygments_lexer": "ipython3",
   "version": "3.7.9-final"
  },
  "orig_nbformat": 2,
  "kernelspec": {
   "name": "python3",
   "display_name": "Python 3.7.9 64-bit",
   "metadata": {
    "interpreter": {
     "hash": "043e9f5fba74f1b043c35e82e8aa7319d9828ad06fee4b2fbca4cca1ab6c980b"
    }
   }
  }
 },
 "nbformat": 4,
 "nbformat_minor": 2,
 "cells": [
  {
   "source": [
    "## ความรู้\n",
    "1. ถ้าแว่นตาอยู่บนโต๊ะในห้องครัวแล้วฉันเห็นแว่นตาตอนทานอาหารเช้า\n",
    "2. ฉันอ่านหนังสือพิมพ์ในห้องนั่งเล่นหรือฉันอ่านหนังสือพิมพ์ในห้องครัว\n",
    "3. ถ้าฉันอ่านหนังสือพิมพ์ในห้องนั่งเล่นแล้วแว่นตาอยู่บนโต๊ะกาแฟ\n",
    "4. ฉันไม่เห็นแว่นตาตาทานอาหารเช้า\n",
    "5. ถ้าฉันอ่านหนังสือบนเตียงแล้วแว่นตาอยู่บนโต๊ะข้างเตียง\n",
    "ุ6. ถ้าฉันอ่านหนังสือพิมพ์ในห้องครัวแล้วแว่นตาอยู่บนโต๊ะในห้องครัว\n",
    "\n",
    "### คำถาม\n",
    "แว่นตาอยู่ที่ใด"
   ],
   "cell_type": "markdown",
   "metadata": {}
  },
  {
   "cell_type": "code",
   "execution_count": 17,
   "metadata": {},
   "outputs": [],
   "source": [
    "from logic import *\n",
    "import termcolor"
   ]
  },
  {
   "cell_type": "code",
   "execution_count": 18,
   "metadata": {},
   "outputs": [],
   "source": [
    "# Fact\n",
    "onKitchenTable = Symbol(\"แว่นตาอยู่บนโต๊ะในห้องครัว\")\n",
    "sawAtBreakfast = Symbol(\"ฉันเห็นแว่นตาตอนทานอาหารเช้า\")\n",
    "readNewsInLivingRoom = Symbol(\"ฉันอ่านหนังสือพิมพ์ในห้องนั่งเล่น\")\n",
    "readNewsInKitchen = Symbol(\"ฉันอ่านหนังสือพิมพ์ในห้องครัว\")\n",
    "onCoffeeTable = Symbol(\"แว่นตาอยู่บนโต๊ะกาแฟ\")\n",
    "readBookInBed = Symbol(\"ฉันอ่านหนังสือบนเตียง\")\n",
    "onBedTable = Symbol(\"แว่นตาอยู่บนโต๊ะข้างเตียง\")"
   ]
  },
  {
   "cell_type": "code",
   "execution_count": 19,
   "metadata": {},
   "outputs": [],
   "source": [
    "# Knowledge\n",
    "knowledge = And(\n",
    "    Implication(onKitchenTable, sawAtBreakfast),\n",
    "    Or(readNewsInLivingRoom, readNewsInKitchen),\n",
    "    Implication(readNewsInLivingRoom, onCoffeeTable),\n",
    "    Not(sawAtBreakfast),\n",
    "    Implication(readBookInBed, onBedTable),\n",
    "    Implication(readNewsInKitchen, onKitchenTable)\n",
    ")"
   ]
  },
  {
   "cell_type": "code",
   "execution_count": 20,
   "metadata": {},
   "outputs": [],
   "source": [
    "# Question Statements\n",
    "questions = [onKitchenTable, onBedTable, onCoffeeTable]"
   ]
  },
  {
   "cell_type": "code",
   "execution_count": 21,
   "metadata": {},
   "outputs": [],
   "source": [
    "def answer(knowledge, questions):\n",
    "    for q in questions:\n",
    "        if model_check(knowledge, q):\n",
    "            termcolor.cprint(f\"{q}\", \"green\")\n",
    "            "
   ]
  },
  {
   "cell_type": "code",
   "execution_count": 22,
   "metadata": {},
   "outputs": [
    {
     "output_type": "stream",
     "name": "stdout",
     "text": [
      "\u001b[32mแว่นตาอยู่บนโต๊ะกาแฟ\u001b[0m\n"
     ]
    }
   ],
   "source": [
    "answer(knowledge, questions)"
   ]
  },
  {
   "cell_type": "code",
   "execution_count": null,
   "metadata": {},
   "outputs": [],
   "source": []
  }
 ]
}